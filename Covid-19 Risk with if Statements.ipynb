{
 "cells": [
  {
   "cell_type": "code",
   "execution_count": 27,
   "id": "40cf2763",
   "metadata": {},
   "outputs": [
    {
     "name": "stdout",
     "output_type": "stream",
     "text": [
      "Are you a cigarette addict older than 75 years old? Yes/No : no\n",
      "Do you have a severe chronic disease? Yes/No : no\n",
      "Is your immune system too weak?  Yes/No : no\n",
      "You are not in risky group\n"
     ]
    }
   ],
   "source": [
    "#print(f'Please, answer the following questions either Yes or No')\n",
    "age = str(input('Are you a cigarette addict older than 75 years old? Yes/No : ')).capitalize()\n",
    "if age == 'Yes':\n",
    "    age = True\n",
    "else:\n",
    "    age = False\n",
    "    \n",
    "chronic = str(input('Do you have a severe chronic disease? Yes/No : ')).capitalize()\n",
    "if chronic == 'Yes':\n",
    "    chronic = True\n",
    "else:\n",
    "    chronic = False\n",
    "    \n",
    "\n",
    "immune = str(input('Is your immune system too weak?  Yes/No : ')).capitalize()\n",
    "if immune == 'Yes':\n",
    "    immune = True\n",
    "else:\n",
    "    immune = False    \n",
    "    \n",
    "    \n",
    "risk = age or chronic or immune\n",
    "if risk == True:    \n",
    "    print(f\"You are in risky group\")\n",
    "else: \n",
    "    print(f\"You are not in risky group\")    \n",
    "    \n",
    "    "
   ]
  },
  {
   "cell_type": "code",
   "execution_count": 28,
   "id": "4793fe99",
   "metadata": {},
   "outputs": [
    {
     "name": "stdout",
     "output_type": "stream",
     "text": [
      "True\n"
     ]
    }
   ],
   "source": [
    "age = True\n",
    "chronic = True\n",
    "immune = False\n",
    "risk = age or chronic or immune\n",
    "print(risk)"
   ]
  },
  {
   "cell_type": "code",
   "execution_count": null,
   "id": "9c9fb9fb",
   "metadata": {},
   "outputs": [],
   "source": []
  },
  {
   "cell_type": "code",
   "execution_count": null,
   "id": "852cffa2",
   "metadata": {},
   "outputs": [],
   "source": []
  }
 ],
 "metadata": {
  "kernelspec": {
   "display_name": "Python 3",
   "language": "python",
   "name": "python3"
  },
  "language_info": {
   "codemirror_mode": {
    "name": "ipython",
    "version": 3
   },
   "file_extension": ".py",
   "mimetype": "text/x-python",
   "name": "python",
   "nbconvert_exporter": "python",
   "pygments_lexer": "ipython3",
   "version": "3.8.8"
  }
 },
 "nbformat": 4,
 "nbformat_minor": 5
}
